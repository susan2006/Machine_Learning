{
 "cells": [
  {
   "cell_type": "code",
   "execution_count": 6,
   "metadata": {
    "colab": {
     "base_uri": "https://localhost:8080/"
    },
    "id": "ldvkmZupNk0v",
    "outputId": "e14f439a-2e7c-4a69-aeee-d72466a856f6"
   },
   "outputs": [
    {
     "name": "stdout",
     "output_type": "stream",
     "text": [
      "Testing XOR Gate MLP:\n",
      "Input: [0 0], Predicted: 0.07, Target: 0\n",
      "Input: [0 1], Predicted: 0.94, Target: 1\n",
      "Input: [1 0], Predicted: 0.94, Target: 1\n",
      "Input: [1 1], Predicted: 0.07, Target: 0\n",
      "\n",
      "Final Trained Parameters:\n",
      "\n",
      "Input -> Hidden Weights:\n",
      " [[5.7 3.6]\n",
      " [5.6 3.6]]\n",
      "Hidden Biases: [-2.3 -5.4] \n",
      "\n",
      "Hidden -> Output Weights:\n",
      " [[ 7.2]\n",
      " [-7.8]]\n",
      "Output Bias: [-3.2]\n"
     ]
    }
   ],
   "source": [
    "import numpy as np\n",
    "def sigmoid(x):\n",
    "    return 1 / (1 + np.exp(-x))\n",
    "def sigmoid_derivative(x):\n",
    "    return x * (1 - x)\n",
    "class XORGateMLP:\n",
    "    def __init__(self):\n",
    "        self.input_weights = np.random.rand(2, 2)\n",
    "        self.hidden_bias = np.random.rand(2)\n",
    "        self.output_weights = np.random.rand(2, 1)\n",
    "        self.output_bias = np.random.rand(1)\n",
    "    def forward_propagation(self, inputs):\n",
    "        self.hidden_input = np.dot(inputs, self.input_weights) + self.hidden_bias\n",
    "        self.hidden_output = sigmoid(self.hidden_input)\n",
    "        self.output_input = np.dot(self.hidden_output, self.output_weights) + self.output_bias\n",
    "        self.output = sigmoid(self.output_input)\n",
    "        return self.output\n",
    "    def backward_propagation(self, inputs, target_output, learning_rate):\n",
    "        output_error = target_output - self.output\n",
    "        output_gradient = output_error * sigmoid_derivative(self.output)\n",
    "        hidden_error = output_gradient.dot(self.output_weights.T)\n",
    "        hidden_gradient = hidden_error * sigmoid_derivative(self.hidden_output)\n",
    "        self.output_weights += self.hidden_output.T.dot(output_gradient) * learning_rate\n",
    "        self.output_bias += np.sum(output_gradient, axis=0) * learning_rate\n",
    "        self.input_weights += inputs.T.dot(hidden_gradient) * learning_rate\n",
    "        self.hidden_bias += np.sum(hidden_gradient, axis=0) * learning_rate\n",
    "    def train(self, inputs, target_output, learning_rate=0.5, epochs=10000):\n",
    "        for _ in range(epochs):\n",
    "            self.forward_propagation(inputs)\n",
    "            self.backward_propagation(inputs, target_output, learning_rate)\n",
    "\n",
    "    def predict(self, inputs):\n",
    "        return self.forward_propagation(inputs)\n",
    "inputs = np.array([\n",
    "    [0, 0],\n",
    "    [0, 1],\n",
    "    [1, 0],\n",
    "    [1, 1]\n",
    "])\n",
    "target_output = np.array([\n",
    "    [0],\n",
    "    [1],\n",
    "    [1],\n",
    "    [0]\n",
    "])\n",
    "xor_gate = XORGateMLP()\n",
    "xor_gate.train(inputs, target_output, learning_rate=0.1, epochs=10000)\n",
    "print(\"Testing XOR Gate MLP:\")\n",
    "for input_data, target in zip(inputs, target_output):\n",
    "    prediction = xor_gate.predict(input_data)\n",
    "    print(f\"Input: {input_data}, Predicted: {np.round(prediction[0], 2)}, Target: {target[0]}\")\n",
    "print(\"\\nFinal Trained Parameters:\\n\")\n",
    "print(\"Input -> Hidden Weights:\\n\", np.round(xor_gate.input_weights, 1))\n",
    "print(\"Hidden Biases:\", np.round(xor_gate.hidden_bias, 1),\"\\n\")\n",
    "print(\"Hidden -> Output Weights:\\n\", np.round(xor_gate.output_weights, 1))\n",
    "print(\"Output Bias:\", np.round(xor_gate.output_bias, 1))\n",
    "\n"
   ]
  },
  {
   "cell_type": "code",
   "execution_count": null,
   "metadata": {},
   "outputs": [],
   "source": []
  }
 ],
 "metadata": {
  "colab": {
   "provenance": []
  },
  "kernelspec": {
   "display_name": "Python 3 (ipykernel)",
   "language": "python",
   "name": "python3"
  },
  "language_info": {
   "codemirror_mode": {
    "name": "ipython",
    "version": 3
   },
   "file_extension": ".py",
   "mimetype": "text/x-python",
   "name": "python",
   "nbconvert_exporter": "python",
   "pygments_lexer": "ipython3",
   "version": "3.12.3"
  }
 },
 "nbformat": 4,
 "nbformat_minor": 4
}
