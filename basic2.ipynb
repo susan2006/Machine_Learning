{
 "cells": [
  {
   "cell_type": "code",
   "execution_count": null,
   "id": "01a1b312-6a3c-45b4-afad-25828bdaf1ea",
   "metadata": {},
   "outputs": [],
   "source": [
    "name = input(\"Enter your name: \")\n",
    "age = int(input(\"Enter your age: \"))\n",
    "course = input(\"Enter your course: \")\n",
    "\n",
    "print(\"Name: \",name)\n",
    "print(\"Age: \",age)\n",
    "print(\"Course: \",course)"
   ]
  },
  {
   "cell_type": "code",
   "execution_count": 4,
   "id": "f79c8059-7211-4004-9cbd-330334ae36ba",
   "metadata": {},
   "outputs": [
    {
     "name": "stdout",
     "output_type": "stream",
     "text": [
      "I am Susan. I am 19 years old. I am pursuing IT\n"
     ]
    }
   ],
   "source": [
    "def display_details(name,age,course):\n",
    "    return f\"I am {name}. I am {age} years old. I am pursuing {course}\"\n",
    "\n",
    "print(display_details(\"Susan\",19,\"IT\"))"
   ]
  },
  {
   "cell_type": "code",
   "execution_count": 6,
   "id": "22aa8d25-58b1-45cc-97cd-d528c4a8da87",
   "metadata": {},
   "outputs": [
    {
     "name": "stdout",
     "output_type": "stream",
     "text": [
      "Cannot add integer with string data type.\n"
     ]
    }
   ],
   "source": [
    "try:\n",
    "    y = \"apple\" + 10\n",
    "except TypeError:\n",
    "    print(\"Cannot add integer with string data type.\")"
   ]
  },
  {
   "cell_type": "code",
   "execution_count": 4,
   "id": "842435b3-ddd7-4d37-8c44-63d19d7e7221",
   "metadata": {},
   "outputs": [
    {
     "name": "stdout",
     "output_type": "stream",
     "text": [
      "A human has 6 senses\n",
      "A human has the ability to think and do anything\n"
     ]
    }
   ],
   "source": [
    "class Human:\n",
    "    def __init__(self):\n",
    "        pass\n",
    "\n",
    "    def display(self):\n",
    "        print(\"A human has 6 senses\")\n",
    "        print(\"A human has the ability to think and do anything\")\n",
    "\n",
    "h = Human()\n",
    "h.display()"
   ]
  },
  {
   "cell_type": "code",
   "execution_count": 9,
   "id": "51478a99-04bb-49a7-9f80-8ec39d762427",
   "metadata": {},
   "outputs": [
    {
     "name": "stdout",
     "output_type": "stream",
     "text": [
      "My newly bought car's name is BMW and it's model is 7 Series. It's fuel type is Petrol and Diesel. It's price is Rs.4900000\n"
     ]
    }
   ],
   "source": [
    "class Car:\n",
    "    def __init__(self,brandName,model,fuelType,price):\n",
    "        self.brandName = brandName\n",
    "        self.model = model\n",
    "        self.fuelType = fuelType\n",
    "        self.price = price\n",
    "        \n",
    "    def displayCarDetails(self):\n",
    "        print (f\"My newly bought car's name is {self.brandName} and it's model is {self.model}. It's fuel type is {self.fuelType}. It's price is Rs.{self.price}\")\n",
    "\n",
    "c = Car(\"BMW\",\"7 Series\",\"Petrol and Diesel\",4900000)\n",
    "c.displayCarDetails()"
   ]
  },
  {
   "cell_type": "code",
   "execution_count": 14,
   "id": "4b38516f-0297-4c9c-9d04-475707018873",
   "metadata": {},
   "outputs": [
    {
     "name": "stdout",
     "output_type": "stream",
     "text": [
      "Before operations: \n",
      "['apple', 'mango', 'pomegranate', 'papaya']\n",
      "('onion', 'potato', 'bell pepper', 'beetroot')\n",
      "{'name': 'BMW', 'series': 7, 'fueltype': 'petrol'}\n",
      "{'raja', 'subu', 'vignesh', 'ram'}\n",
      "\n",
      "After some operations: \n",
      "\n",
      "Cannot add elements to a tuple\n"
     ]
    },
    {
     "ename": "AttributeError",
     "evalue": "'set' object has no attribute 'insert'",
     "output_type": "error",
     "traceback": [
      "\u001b[31m---------------------------------------------------------------------------\u001b[39m",
      "\u001b[31mAttributeError\u001b[39m                            Traceback (most recent call last)",
      "\u001b[36mCell\u001b[39m\u001b[36m \u001b[39m\u001b[32mIn[14]\u001b[39m\u001b[32m, line 23\u001b[39m\n\u001b[32m     19\u001b[39m     \u001b[38;5;28mprint\u001b[39m(\u001b[33m\"\u001b[39m\u001b[33mCannot add elements to a tuple\u001b[39m\u001b[33m\"\u001b[39m)\n\u001b[32m     21\u001b[39m car[\u001b[33m\"\u001b[39m\u001b[33mprice\u001b[39m\u001b[33m\"\u001b[39m] = \u001b[32m4900000\u001b[39m\n\u001b[32m---> \u001b[39m\u001b[32m23\u001b[39m \u001b[43mstudent\u001b[49m\u001b[43m.\u001b[49m\u001b[43minsert\u001b[49m(\u001b[33m\"\u001b[39m\u001b[33mdinesh\u001b[39m\u001b[33m\"\u001b[39m)\n\u001b[32m     25\u001b[39m \u001b[38;5;28mprint\u001b[39m(fruits)\n\u001b[32m     26\u001b[39m \u001b[38;5;28mprint\u001b[39m(vegetables)\n",
      "\u001b[31mAttributeError\u001b[39m: 'set' object has no attribute 'insert'"
     ]
    }
   ],
   "source": [
    "fruits = [\"apple\",\"mango\",\"pomegranate\",\"papaya\"]\n",
    "vegetables = (\"onion\",\"potato\",\"bell pepper\",\"beetroot\")\n",
    "car = {\"name\" : \"BMW\", \"series\" : 7, \"fueltype\" : \"petrol\"}\n",
    "student = {\"ram\",\"vignesh\",\"raja\",\"ram\",\"subu\"}\n",
    "\n",
    "print(\"Before operations: \")\n",
    "print(fruits)\n",
    "print(vegetables)\n",
    "print(car)\n",
    "print(student)\n",
    "\n",
    "print(\"\\nAfter some operations: \\n\")\n",
    "\n",
    "fruits.append(\"fig\")\n",
    "\n",
    "try:\n",
    "    vegetables.append(\"carrot\")\n",
    "except AttributeError:\n",
    "    print(\"Cannot add elements to a tuple\")\n",
    "\n",
    "car[\"price\"] = 4900000\n",
    "\n",
    "student.insert(\"dinesh\")\n",
    "\n",
    "print(fruits)\n",
    "print(vegetables)\n",
    "print(car)\n",
    "print(student)"
   ]
  }
 ],
 "metadata": {
  "kernelspec": {
   "display_name": "Python 3 (ipykernel)",
   "language": "python",
   "name": "python3"
  },
  "language_info": {
   "codemirror_mode": {
    "name": "ipython",
    "version": 3
   },
   "file_extension": ".py",
   "mimetype": "text/x-python",
   "name": "python",
   "nbconvert_exporter": "python",
   "pygments_lexer": "ipython3",
   "version": "3.12.3"
  }
 },
 "nbformat": 4,
 "nbformat_minor": 5
}
