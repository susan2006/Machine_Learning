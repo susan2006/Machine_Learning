{
 "cells": [
  {
   "cell_type": "code",
   "execution_count": 4,
   "id": "02dfe737",
   "metadata": {},
   "outputs": [
    {
     "name": "stdout",
     "output_type": "stream",
     "text": [
      "Using normal linear regression form:\n",
      "\n",
      "Intercept is: 105.84\n",
      "Slope is: 2.57\n",
      "Equation is: y = 105.84 + 2.57x\n"
     ]
    }
   ],
   "source": [
    "units_used = [754, 244, 604, 410, 265, 417, 255, 525, 694, 647, 352, 150, 699, 580, 565]\n",
    "elec_bill = [2053.91, 739.93, 1658.78, 1169.47, 780.63, 1191.02, 751.77, 1445.15, 1903.94, 1786.19, 1008.49, 487.22, 1850.46, 1602.69, 1563.45]\n",
    "\n",
    "n = len(units_used)\n",
    "\n",
    "totalX = totalY = squaredX = totalXY = 0\n",
    "\n",
    "for val in units_used:\n",
    "    totalX += val\n",
    "    squaredX += (val*val)\n",
    "\n",
    "for val in elec_bill:\n",
    "    totalY += val\n",
    "\n",
    "for valx,valy in zip(units_used,elec_bill):\n",
    "    totalXY += (valx*valy)\n",
    "\n",
    "meanX = totalX / n\n",
    "meanY = totalY / n\n",
    "meanSquaredX = squaredX / n\n",
    "meanXY = totalXY / n\n",
    "\n",
    "'''print(round(meanX,2))\n",
    "print(round(meanY,2))\n",
    "print(round(meanSquaredX,2))\n",
    "print(round(meanXY,2))'''\n",
    "\n",
    "a1 = (meanXY - (meanX * meanY)) / (meanSquaredX - (meanX * meanX))\n",
    "\n",
    "a0 = meanY - a1 * meanX\n",
    "\n",
    "print(\"Using normal linear regression form:\\n\")\n",
    "\n",
    "print(f\"Intercept is: {a0:.2f}\")\n",
    "print(f\"Slope is: {a1:.2f}\")\n",
    "\n",
    "print(f\"Equation is: y = {a0:.2f} + {a1:.2f}x\")\n"
   ]
  },
  {
   "cell_type": "code",
   "execution_count": 12,
   "id": "d186280a",
   "metadata": {},
   "outputs": [
    {
     "name": "stdout",
     "output_type": "stream",
     "text": [
      "Linear regression for bivariate dataset using matrix form:\n",
      "\n",
      "Slope: 2.57\n",
      "Intercept: 105.84\n",
      "Linear regression equation is: electricity_bill_pred = 105.84 + 2.57*units_used\n"
     ]
    }
   ],
   "source": [
    "import pandas as pd\n",
    "import numpy as np\n",
    "#df = pd.DataFrame({'Units used': units_used, 'Electricity bill': elec_bill})\n",
    "\n",
    "X = np.array(units_used).reshape(-1, 1) \n",
    "X = np.hstack((np.ones((X.shape[0], 1)), X)) \n",
    "y = np.array(elec_bill)\n",
    "\n",
    "XTX = np.dot(X.T, X)\n",
    "XTX_inv = np.linalg.inv(XTX)\n",
    "XTy = np.dot(X.T, y)\n",
    "coefficients = np.dot(XTX_inv, XTy)\n",
    "\n",
    "intercept, slope = coefficients\n",
    "\n",
    "print(\"Linear regression for bivariate dataset using matrix form:\\n\")\n",
    "print(f\"Slope: {slope:.2f}\")\n",
    "print(f\"Intercept: {intercept:.2f}\")\n",
    "print(f\"Linear regression equation is: electricity_bill_pred = {intercept:.2f} + {slope:.2f}*units_used\")"
   ]
  },
  {
   "cell_type": "code",
   "execution_count": null,
   "id": "3be93d38",
   "metadata": {},
   "outputs": [],
   "source": []
  }
 ],
 "metadata": {
  "kernelspec": {
   "display_name": "Python 3 (ipykernel)",
   "language": "python",
   "name": "python3"
  },
  "language_info": {
   "codemirror_mode": {
    "name": "ipython",
    "version": 3
   },
   "file_extension": ".py",
   "mimetype": "text/x-python",
   "name": "python",
   "nbconvert_exporter": "python",
   "pygments_lexer": "ipython3",
   "version": "3.12.3"
  }
 },
 "nbformat": 4,
 "nbformat_minor": 5
}
